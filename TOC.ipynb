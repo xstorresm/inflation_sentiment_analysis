
# **Project Proposal**
## **Objectives**
## **Exepcted Outcomes**


# **Chapter 1 - Data Collection, Preprocessing and Cleaning**
## **1.1. Basket Weights in Relation to the CPI**
## **1.2. Understanding Canada’s Chartered Banks’ Interest Rates**
## **1.3. Understanding the Consumer Price Index - CPI**
## **1.4. Data Preprocessing and Cleaning**

# **Chapter 2 - Exploratory Data Analysis - EDA** 
## **2.1. Correlation Matrix**


